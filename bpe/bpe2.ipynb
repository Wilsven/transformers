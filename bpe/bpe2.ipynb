{
 "cells": [
  {
   "cell_type": "code",
   "execution_count": 1,
   "metadata": {},
   "outputs": [],
   "source": [
    "import re\n",
    "from collections import defaultdict"
   ]
  },
  {
   "cell_type": "code",
   "execution_count": 2,
   "metadata": {},
   "outputs": [],
   "source": [
    "# https://everdark.github.io/k9/notebooks/ml/natural_language_understanding/subword_units/subword_units.nb.html\n",
    "class BytePairEncoding:\n",
    "    def __init__(self, sents, min_cnt=3, verbose=False):\n",
    "        self.verbose = verbose\n",
    "        init_vocab = defaultdict(int)\n",
    "        for sent in sents:\n",
    "            words = re.split(r\"\\W+\", sent)\n",
    "            for w in words:\n",
    "                if w != \"\":\n",
    "                    init_vocab[w] += 1\n",
    "        # Create fullword vocabulary\n",
    "        self.word_vocab = {k: v for k, v in init_vocab.items() if v >= min_cnt}\n",
    "        # Insert space between each char in a word for ease of merge operation down the line\n",
    "        # We directly borrow the idea from https://www.aclweb.org/anthology/P16-1162\n",
    "        self.working_vocab = {\" \".join(k): v for k, v in self.word_vocab.items()}\n",
    "        self.subword_vocab = defaultdict(int)\n",
    "        # Also build a character-level vocabulary as the base subwords\n",
    "        self.char_vocab = defaultdict(int)\n",
    "        for sent in sents:\n",
    "            for char in list(sent):\n",
    "                self.char_vocab[char] += 1\n",
    "\n",
    "    def _find_top_subword(self):\n",
    "        subword_pairs = defaultdict(int)\n",
    "        for w, cnt in self.working_vocab.items():\n",
    "            subw = w.split()\n",
    "            for i in range(len(subw) - 1):\n",
    "                # Count bigrams\n",
    "                subword_pairs[subw[i], subw[i + 1]] += cnt\n",
    "        top_subw_pair = max(subword_pairs, key=subword_pairs.get)\n",
    "        top_subw = \"\".join(top_subw_pair)\n",
    "        self.subword_vocab[top_subw] = subword_pairs[top_subw_pair]\n",
    "        if self.verbose:\n",
    "            print(f\"New subword added: {top_subw}\")\n",
    "\n",
    "        return top_subw_pair\n",
    "\n",
    "    def _merge(self, subw_pair):\n",
    "        bigram = re.escape(\" \".join(subw_pair))\n",
    "        p = re.compile(r\"(?<!\\S)\" + bigram + r\"(?!\\S)\")\n",
    "        self.working_vocab = {\n",
    "            p.sub(\"\".join(subw_pair), w): cnt for w, cnt in self.working_vocab.items()\n",
    "        }\n",
    "\n",
    "    def update_subword(self, n_merge=1):\n",
    "        for _ in range(n_merge):\n",
    "            top_subw_pair = self._find_top_subword()\n",
    "            self._merge(top_subw_pair)"
   ]
  },
  {
   "cell_type": "code",
   "execution_count": 3,
   "metadata": {},
   "outputs": [],
   "source": [
    "import warnings\n",
    "\n",
    "warnings.simplefilter(action=\"ignore\", category=FutureWarning)\n",
    "\n",
    "import os\n",
    "import shutil\n",
    "import tensorflow as tf"
   ]
  },
  {
   "cell_type": "code",
   "execution_count": 4,
   "metadata": {},
   "outputs": [
    {
     "name": "stdout",
     "output_type": "stream",
     "text": [
      "Downloading data from https://storage.googleapis.com/download.tensorflow.org/data/shakespeare.txt\n",
      "1115394/1115394 [==============================] - 1s 1us/step\n",
      "first citizen:\n",
      "before we proceed any further, hear me speak.\n",
      "\n",
      "all:\n",
      "speak, speak.\n",
      "\n",
      "first citizen:\n",
      "you are all resolved rather to die than to famish?\n",
      "\n",
      "all:\n",
      "resolved. resolved.\n",
      "\n",
      "first citizen:\n",
      "first, you know caius marcius is chief enemy to the people.\n",
      "\n",
      "all:\n",
      "we know't, we know't.\n",
      "\n",
      "first citizen:\n",
      "let us kill him, and we'll have corn at our own price.\n"
     ]
    }
   ],
   "source": [
    "shakes_file = \"../data/shakespeare.txt\"\n",
    "if not os.path.exists(shakes_file):\n",
    "    shakes_dl_path = tf.keras.utils.get_file(\n",
    "        \"shakespeare.txt\",\n",
    "        \"https://storage.googleapis.com/download.tensorflow.org/data/shakespeare.txt\",\n",
    "    )\n",
    "    shutil.move(shakes_dl_path, shakes_file)\n",
    "\n",
    "shakespeare = open(shakes_file, \"rb\").read().decode(encoding=\"utf-8\")\n",
    "shakespeare = shakespeare.lower().split(\"\\n\")\n",
    "\n",
    "# Print the first few lines\n",
    "for sent in shakespeare[:20]:\n",
    "    print(sent)"
   ]
  },
  {
   "cell_type": "code",
   "execution_count": 5,
   "metadata": {},
   "outputs": [
    {
     "name": "stdout",
     "output_type": "stream",
     "text": [
      "1872\n"
     ]
    }
   ],
   "source": [
    "bpe = BytePairEncoding(shakespeare, min_cnt=10)\n",
    "print(len(bpe.word_vocab))"
   ]
  },
  {
   "cell_type": "code",
   "execution_count": 6,
   "metadata": {},
   "outputs": [
    {
     "name": "stdout",
     "output_type": "stream",
     "text": [
      "[('first', 363), ('citizen', 100), ('before', 195), ('we', 938), ('proceed', 21)]\n"
     ]
    }
   ],
   "source": [
    "# Print some from fullword vocabulary\n",
    "print(list(bpe.word_vocab.items())[:5])"
   ]
  },
  {
   "cell_type": "code",
   "execution_count": 7,
   "metadata": {},
   "outputs": [
    {
     "name": "stdout",
     "output_type": "stream",
     "text": [
      "[('f i r s t', 363), ('c i t i z e n', 100), ('b e f o r e', 195), ('w e', 938), ('p r o c e e d', 21)]\n"
     ]
    }
   ],
   "source": [
    "# (For debugging) Print some from the working vocab that we are going to perform the merge\n",
    "print(list(bpe.working_vocab.items())[:5])"
   ]
  },
  {
   "cell_type": "code",
   "execution_count": 8,
   "metadata": {},
   "outputs": [
    {
     "name": "stdout",
     "output_type": "stream",
     "text": [
      "100\n"
     ]
    }
   ],
   "source": [
    "# Do merge update\n",
    "bpe.update_subword(n_merge=100)\n",
    "print(len(bpe.subword_vocab))"
   ]
  },
  {
   "cell_type": "code",
   "execution_count": 9,
   "metadata": {},
   "outputs": [
    {
     "name": "stdout",
     "output_type": "stream",
     "text": [
      "[('f ir st', 363), ('c it i z en', 100), ('be for e', 195), ('we', 938), ('p ro ce ed', 21)]\n"
     ]
    }
   ],
   "source": [
    "# Check the working vocabulary after merge\n",
    "print(list(bpe.working_vocab.items())[:5])"
   ]
  },
  {
   "cell_type": "code",
   "execution_count": 10,
   "metadata": {},
   "outputs": [
    {
     "name": "stdout",
     "output_type": "stream",
     "text": [
      "[('th', 25186), ('ou', 11960), ('the', 11654), ('an', 11587), ('in', 9012)]\n"
     ]
    }
   ],
   "source": [
    "# Print some subwords generated by the first 100 merge operations\n",
    "print(list(bpe.subword_vocab.items())[:5])"
   ]
  },
  {
   "cell_type": "code",
   "execution_count": null,
   "metadata": {},
   "outputs": [],
   "source": []
  }
 ],
 "metadata": {
  "kernelspec": {
   "display_name": "base-2",
   "language": "python",
   "name": "python3"
  },
  "language_info": {
   "codemirror_mode": {
    "name": "ipython",
    "version": 3
   },
   "file_extension": ".py",
   "mimetype": "text/x-python",
   "name": "python",
   "nbconvert_exporter": "python",
   "pygments_lexer": "ipython3",
   "version": "3.11.4"
  },
  "orig_nbformat": 4
 },
 "nbformat": 4,
 "nbformat_minor": 2
}
