{
 "cells": [
  {
   "attachments": {},
   "cell_type": "markdown",
   "metadata": {},
   "source": [
    "# Sentence Tokenization"
   ]
  },
  {
   "cell_type": "code",
   "execution_count": 1,
   "metadata": {},
   "outputs": [],
   "source": [
    "import torch\n",
    "import torch.nn as nn\n",
    "from torch.utils.data import Dataset, DataLoader\n",
    "\n",
    "import numpy as np\n",
    "import matplotlib.pyplot as plt"
   ]
  },
  {
   "cell_type": "code",
   "execution_count": 2,
   "metadata": {},
   "outputs": [],
   "source": [
    "english_file = \"data/english.txt\"\n",
    "kannada_file = \"data/kannada.txt\"\n",
    "\n",
    "START_TOKEN = \"\"\n",
    "PADDING_TOKEN = \"\"\n",
    "END_TOKEN = \"\"\n",
    "\n",
    "kannada_vocabulary = [\n",
    "    START_TOKEN,\n",
    "    \" \",\n",
    "    \"!\",\n",
    "    '\"',\n",
    "    \"#\",\n",
    "    \"$\",\n",
    "    \"%\",\n",
    "    \"&\",\n",
    "    \"'\",\n",
    "    \"(\",\n",
    "    \")\",\n",
    "    \"*\",\n",
    "    \"+\",\n",
    "    \",\",\n",
    "    \"-\",\n",
    "    \".\",\n",
    "    \"/\",\n",
    "    \"0\",\n",
    "    \"1\",\n",
    "    \"2\",\n",
    "    \"3\",\n",
    "    \"4\",\n",
    "    \"5\",\n",
    "    \"6\",\n",
    "    \"7\",\n",
    "    \"8\",\n",
    "    \"9\",\n",
    "    \":\",\n",
    "    \"<\",\n",
    "    \"=\",\n",
    "    \">\",\n",
    "    \"?\",\n",
    "    \"ˌ\",\n",
    "    \"ँ\",\n",
    "    \"ఆ\",\n",
    "    \"ఇ\",\n",
    "    \"ా\",\n",
    "    \"ి\",\n",
    "    \"ీ\",\n",
    "    \"ు\",\n",
    "    \"ూ\",\n",
    "    \"ಅ\",\n",
    "    \"ಆ\",\n",
    "    \"ಇ\",\n",
    "    \"ಈ\",\n",
    "    \"ಉ\",\n",
    "    \"ಊ\",\n",
    "    \"ಋ\",\n",
    "    \"ೠ\",\n",
    "    \"ಌ\",\n",
    "    \"ಎ\",\n",
    "    \"ಏ\",\n",
    "    \"ಐ\",\n",
    "    \"ಒ\",\n",
    "    \"ಓ\",\n",
    "    \"ಔ\",\n",
    "    \"ಕ\",\n",
    "    \"ಖ\",\n",
    "    \"ಗ\",\n",
    "    \"ಘ\",\n",
    "    \"ಙ\",\n",
    "    \"ಚ\",\n",
    "    \"ಛ\",\n",
    "    \"ಜ\",\n",
    "    \"ಝ\",\n",
    "    \"ಞ\",\n",
    "    \"ಟ\",\n",
    "    \"ಠ\",\n",
    "    \"ಡ\",\n",
    "    \"ಢ\",\n",
    "    \"ಣ\",\n",
    "    \"ತ\",\n",
    "    \"ಥ\",\n",
    "    \"ದ\",\n",
    "    \"ಧ\",\n",
    "    \"ನ\",\n",
    "    \"ಪ\",\n",
    "    \"ಫ\",\n",
    "    \"ಬ\",\n",
    "    \"ಭ\",\n",
    "    \"ಮ\",\n",
    "    \"ಯ\",\n",
    "    \"ರ\",\n",
    "    \"ಱ\",\n",
    "    \"ಲ\",\n",
    "    \"ಳ\",\n",
    "    \"ವ\",\n",
    "    \"ಶ\",\n",
    "    \"ಷ\",\n",
    "    \"ಸ\",\n",
    "    \"ಹ\",\n",
    "    \"಼\",\n",
    "    \"ಽ\",\n",
    "    \"ಾ\",\n",
    "    \"ಿ\",\n",
    "    \"ೀ\",\n",
    "    \"ು\",\n",
    "    \"ೂ\",\n",
    "    \"ೃ\",\n",
    "    \"ೄ\",\n",
    "    \"ೆ\",\n",
    "    \"ೇ\",\n",
    "    \"ೈ\",\n",
    "    \"ೊ\",\n",
    "    \"ೋ\",\n",
    "    \"ೌ\",\n",
    "    \"್\",\n",
    "    \"ೕ\",\n",
    "    \"ೖ\",\n",
    "    \"ೞ\",\n",
    "    \"ೣ\",\n",
    "    \"ಂ\",\n",
    "    \"ಃ\",\n",
    "    \"೦\",\n",
    "    \"೧\",\n",
    "    \"೨\",\n",
    "    \"೩\",\n",
    "    \"೪\",\n",
    "    \"೫\",\n",
    "    \"೬\",\n",
    "    \"೭\",\n",
    "    \"೮\",\n",
    "    \"೯\",\n",
    "    PADDING_TOKEN,\n",
    "    END_TOKEN,\n",
    "]\n",
    "\n",
    "english_vocabulary = [\n",
    "    START_TOKEN,\n",
    "    \" \",\n",
    "    \"!\",\n",
    "    '\"',\n",
    "    \"#\",\n",
    "    \"$\",\n",
    "    \"%\",\n",
    "    \"&\",\n",
    "    \"'\",\n",
    "    \"(\",\n",
    "    \")\",\n",
    "    \"*\",\n",
    "    \"+\",\n",
    "    \",\",\n",
    "    \"-\",\n",
    "    \".\",\n",
    "    \"/\",\n",
    "    \"0\",\n",
    "    \"1\",\n",
    "    \"2\",\n",
    "    \"3\",\n",
    "    \"4\",\n",
    "    \"5\",\n",
    "    \"6\",\n",
    "    \"7\",\n",
    "    \"8\",\n",
    "    \"9\",\n",
    "    \":\",\n",
    "    \"<\",\n",
    "    \"=\",\n",
    "    \">\",\n",
    "    \"?\",\n",
    "    \"@\",\n",
    "    \"A\",\n",
    "    \"B\",\n",
    "    \"C\",\n",
    "    \"D\",\n",
    "    \"E\",\n",
    "    \"F\",\n",
    "    \"G\",\n",
    "    \"H\",\n",
    "    \"I\",\n",
    "    \"J\",\n",
    "    \"K\",\n",
    "    \"L\",\n",
    "    \"M\",\n",
    "    \"N\",\n",
    "    \"O\",\n",
    "    \"P\",\n",
    "    \"Q\",\n",
    "    \"R\",\n",
    "    \"S\",\n",
    "    \"T\",\n",
    "    \"U\",\n",
    "    \"V\",\n",
    "    \"W\",\n",
    "    \"X\",\n",
    "    \"Y\",\n",
    "    \"Z\",\n",
    "    \"[\",\n",
    "    \"\\\\\",\n",
    "    \"]\",\n",
    "    \"^\",\n",
    "    \"_\",\n",
    "    \"`\",\n",
    "    \"a\",\n",
    "    \"b\",\n",
    "    \"c\",\n",
    "    \"d\",\n",
    "    \"e\",\n",
    "    \"f\",\n",
    "    \"g\",\n",
    "    \"h\",\n",
    "    \"i\",\n",
    "    \"j\",\n",
    "    \"k\",\n",
    "    \"l\",\n",
    "    \"m\",\n",
    "    \"n\",\n",
    "    \"o\",\n",
    "    \"p\",\n",
    "    \"q\",\n",
    "    \"r\",\n",
    "    \"s\",\n",
    "    \"t\",\n",
    "    \"u\",\n",
    "    \"v\",\n",
    "    \"w\",\n",
    "    \"x\",\n",
    "    \"y\",\n",
    "    \"z\",\n",
    "    \"{\",\n",
    "    \"|\",\n",
    "    \"}\",\n",
    "    \"~\",\n",
    "    PADDING_TOKEN,\n",
    "    END_TOKEN,\n",
    "]"
   ]
  },
  {
   "cell_type": "code",
   "execution_count": 3,
   "metadata": {},
   "outputs": [
    {
     "data": {
      "text/plain": [
       "['ಕ', 'ನ', '್', 'ನ', 'ಡ']"
      ]
     },
     "execution_count": 3,
     "metadata": {},
     "output_type": "execute_result"
    }
   ],
   "source": [
    "text = \"ಕನ್ನಡ\"\n",
    "list(text)"
   ]
  },
  {
   "cell_type": "code",
   "execution_count": 4,
   "metadata": {},
   "outputs": [
    {
     "data": {
      "text/plain": [
       "'ಕಾ'"
      ]
     },
     "execution_count": 4,
     "metadata": {},
     "output_type": "execute_result"
    }
   ],
   "source": [
    "\"ಕ\" + \"ಾ\""
   ]
  },
  {
   "attachments": {},
   "cell_type": "markdown",
   "metadata": {},
   "source": [
    "For every one of the English and Kannada vocabulary, we want to create an index. That's a dictionary that maps an integer to a character or a character that maps to an integer. "
   ]
  },
  {
   "cell_type": "code",
   "execution_count": 5,
   "metadata": {},
   "outputs": [],
   "source": [
    "index_to_english = {k: v for k, v in enumerate(english_vocabulary)}\n",
    "index_to_kannada = {k: v for k, v in enumerate(kannada_vocabulary)}\n",
    "english_to_index = {v: k for k, v in enumerate(english_vocabulary)}\n",
    "kannada_to_index = {v: k for k, v in enumerate(kannada_vocabulary)}"
   ]
  },
  {
   "attachments": {},
   "cell_type": "markdown",
   "metadata": {},
   "source": [
    "Now we're going to read the files in the data folder and retrieve the top 100,000 sentences."
   ]
  },
  {
   "cell_type": "code",
   "execution_count": 6,
   "metadata": {},
   "outputs": [
    {
     "name": "stdout",
     "output_type": "stream",
     "text": [
      "100000\n",
      "100000\n"
     ]
    }
   ],
   "source": [
    "with open(english_file, \"r\") as file:\n",
    "    english_sentences = file.readlines()\n",
    "with open(kannada_file, \"r\") as file:\n",
    "    kannada_sentences = file.readlines()\n",
    "\n",
    "# Limit number of sentences\n",
    "TOTAL_SENTENCES = 100000\n",
    "english_sentences = english_sentences[:TOTAL_SENTENCES]\n",
    "kannada_sentences = kannada_sentences[:TOTAL_SENTENCES]\n",
    "# Remove any whitespaces or newline characters from left and right of sentences\n",
    "english_sentences = [sentence.strip() for sentence in english_sentences]\n",
    "kannada_sentences = [sentence.strip() for sentence in kannada_sentences]\n",
    "\n",
    "print(len(english_sentences))\n",
    "print(len(kannada_sentences))"
   ]
  },
  {
   "cell_type": "code",
   "execution_count": 7,
   "metadata": {},
   "outputs": [
    {
     "data": {
      "text/plain": [
       "['Hes a scientist.',\n",
       " \"'But we speak the truth aur ye sach hai ke Gujarat mein vikas pagal hogaya hai,'' Rahul Gandhi further said in Banaskantha\",\n",
       " '8 lakh crore have been looted.',\n",
       " 'I read a lot into this as well.',\n",
       " \"She was found dead with the phone's battery exploded close to her head the following morning.\",\n",
       " 'How did mankind come under Satans rival sovereignty?',\n",
       " 'And then I became Prime Minister.',\n",
       " 'What about corruption?',\n",
       " 'No differences',\n",
       " '\"\"\"The shooting of the film is 90 percent done.\"']"
      ]
     },
     "execution_count": 7,
     "metadata": {},
     "output_type": "execute_result"
    }
   ],
   "source": [
    "english_sentences[:10]"
   ]
  },
  {
   "cell_type": "code",
   "execution_count": 8,
   "metadata": {},
   "outputs": [
    {
     "data": {
      "text/plain": [
       "['ಇವರು ಸಂಶೋಧಕ ಸ್ವಭಾವದವರು.',\n",
       " '\"ಆದರೆ ಸತ್ಯ ಹೊರ ಬಂದೇ ಬರುತ್ತದೆ ಎಂದು ಹೇಳಿದ ರಾಹುಲ್ ಗಾಂಧಿ, \"\"ಸೂರತ್ ಜನರು ಚೀನಾದ ಜತೆ ಸ್ಪರ್ಧೆ ನಡೆಸುತ್ತಿದ್ದಾರೆ\"',\n",
       " 'ಕಳ್ಳತನವಾಗಿದ್ದ 8 ಲಕ್ಷ ರೂ.',\n",
       " 'ಇದರ ಬಗ್ಗೆ ನಾನೂ ಸಾಕಷ್ಟು ಓದಿದ್ದೇನೆ.',\n",
       " 'ಆಕೆಯ ತಲೆಯ ಹತ್ತಿರ ಇರಿಸಿಕೊಂಡಿದ್ದ ಫೋನ್\\u200cನ ಬ್ಯಾಟರಿ ಸ್ಫೋಟಗೊಂಡು ಆಕೆ ಮೃತಪಟ್ಟಿದ್ದಾಳೆ ಎನ್ನಲಾಗಿದೆ.',\n",
       " 'ಮಾನವಕುಲವು ಸೈತಾನನ ಆಳಿಕೆಯ ಕೆಳಗೆ ಬಂದದ್ದು ಹೇಗೆ?',\n",
       " 'ನಂತರ ಪ್ರಧಾನಿ ಕೂಡ ಆಗುತ್ತೇನೆ.',\n",
       " 'ಭ್ರಷ್ಟಾಚಾರ ಏಕಿದೆ?',\n",
       " '‘ಅನುಪಾತದಲ್ಲಿ ವ್ಯತ್ಯಾಸವಿಲ್ಲ’',\n",
       " 'ಆ ಚಿತ್ರದ ಶೇ 90ರಷ್ಟು ಚಿತ್ರೀಕರಣವೂ ಈಗಾಗಲೇ ಮುಗಿದು ಹೋಗಿದೆ.']"
      ]
     },
     "execution_count": 8,
     "metadata": {},
     "output_type": "execute_result"
    }
   ],
   "source": [
    "kannada_sentences[:10]"
   ]
  },
  {
   "cell_type": "code",
   "execution_count": 9,
   "metadata": {},
   "outputs": [
    {
     "data": {
      "text/plain": [
       "(722, 639)"
      ]
     },
     "execution_count": 9,
     "metadata": {},
     "output_type": "execute_result"
    }
   ],
   "source": [
    "max(len(sentence) for sentence in english_sentences), max(\n",
    "    len(sentence) for sentence in kannada_sentences\n",
    ")"
   ]
  },
  {
   "attachments": {},
   "cell_type": "markdown",
   "metadata": {},
   "source": [
    "## Reading and Processing Sentences"
   ]
  },
  {
   "attachments": {},
   "cell_type": "markdown",
   "metadata": {},
   "source": [
    "<img src=\"images/transformer-architecture.png\" width=\"500\">\n",
    "\n",
    "As an input to this transformer neural network, we're going to convert every single character into some embedding instead of every single word as explained in previous sections. When we encode every character into an embedding, we want it to ideally be a little smaller so that there is not too many parameters to learn and inference becomes faster.\n",
    "\n",
    "From the output above, we can see that the longest sentence for English and Kannada are 722 and 639 respectively. We can plot a distribution of the length of the sentences in both languages and we can be fairly confident that the distribution will be right-skewed — meaning there are only a couple of sentences that are really long. In that sense, we can choose not to accomodate to those sentences that are super long (there's only a few of them anyways). It wouls make sense to simply accomodate to the majority and decrease the dimension so that it becomes easier to learn less parameters throughout the network."
   ]
  },
  {
   "cell_type": "code",
   "execution_count": 10,
   "metadata": {},
   "outputs": [
    {
     "data": {
      "image/png": "[encoded data removed]",
      "text/plain": [
       "<Figure size 1200x400 with 1 Axes>"
      ]
     },
     "metadata": {},
     "output_type": "display_data"
    }
   ],
   "source": [
    "plt.figure(figsize=(12, 4))\n",
    "plt.hist([len(sentence) for sentence in english_sentences], label=\"English\", alpha=0.5)\n",
    "plt.hist([len(sentence) for sentence in kannada_sentences], label=\"Kannada\", alpha=0.5)\n",
    "plt.title(\"Distribution of the length of sentences\", fontsize=12)\n",
    "plt.xlabel(\"Length of sentences\")\n",
    "plt.ylabel(\"Counts\")\n",
    "plt.legend(loc=\"upper right\")\n",
    "plt.show()"
   ]
  },
  {
   "attachments": {},
   "cell_type": "markdown",
   "metadata": {},
   "source": [
    "To accomplish this, we will use sentences in the 97th percentile."
   ]
  },
  {
   "cell_type": "code",
   "execution_count": 11,
   "metadata": {},
   "outputs": [
    {
     "name": "stdout",
     "output_type": "stream",
     "text": [
      "97th percentile length in English: 179\n",
      "97th percentile length in Kannada: 172\n"
     ]
    }
   ],
   "source": [
    "PERCENTILE = 97\n",
    "print(\n",
    "    f\"{PERCENTILE}th percentile length in English: {np.percentile([len(sentence) for sentence in english_sentences], PERCENTILE):.0f}\"\n",
    ")\n",
    "print(\n",
    "    f\"{PERCENTILE}th percentile length in Kannada: {np.percentile([len(sentence) for sentence in kannada_sentences], PERCENTILE):.0f}\"\n",
    ")"
   ]
  },
  {
   "attachments": {},
   "cell_type": "markdown",
   "metadata": {},
   "source": [
    "Since the maximum sentence lengths for English and Kannada are pretty close. We can comfortably pick a `max_sequence_length` of 200."
   ]
  },
  {
   "cell_type": "code",
   "execution_count": 12,
   "metadata": {},
   "outputs": [
    {
     "name": "stdout",
     "output_type": "stream",
     "text": [
      "Number of English sentences: 100000\n",
      "Number of Kannada sentences: 100000\n",
      "Number of valid sentences: 81947\n"
     ]
    }
   ],
   "source": [
    "max_sequence_length = 200\n",
    "\n",
    "\n",
    "def is_valid_tokens(sentence: str, vocab: list[str]) -> bool:\n",
    "    for token in list(set(sentence)):\n",
    "        if token not in vocab:\n",
    "            return False\n",
    "    return True\n",
    "\n",
    "\n",
    "def is_valid_length(sentence: str, max_sequence_length: int) -> bool:\n",
    "    return (\n",
    "        len(list(sentence)) <= max_sequence_length - 1\n",
    "    )  # need to re-add the end token so leaving 1 space\n",
    "\n",
    "\n",
    "valid_sentence_indices = []\n",
    "for index in range(len(english_sentences)):\n",
    "    english_sentence, kannada_sentence = (\n",
    "        english_sentences[index],\n",
    "        kannada_sentences[index],\n",
    "    )\n",
    "    if (\n",
    "        is_valid_tokens(english_sentence, english_vocabulary)\n",
    "        and is_valid_length(english_sentence, max_sequence_length)\n",
    "        and is_valid_tokens(kannada_sentence, kannada_vocabulary)\n",
    "        and is_valid_length(kannada_sentence, max_sequence_length)\n",
    "    ):\n",
    "        valid_sentence_indices.append(index)\n",
    "\n",
    "\n",
    "print(f\"Number of English sentences: {len(english_sentences)}\")\n",
    "print(f\"Number of Kannada sentences: {len(kannada_sentences)}\")\n",
    "print(f\"Number of valid sentences: {len(valid_sentence_indices)}\")"
   ]
  },
  {
   "cell_type": "code",
   "execution_count": 13,
   "metadata": {},
   "outputs": [],
   "source": [
    "english_sentences = [english_sentences[i] for i in valid_sentence_indices]\n",
    "kannada_sentences = [kannada_sentences[i] for i in valid_sentence_indices]"
   ]
  },
  {
   "cell_type": "code",
   "execution_count": 14,
   "metadata": {},
   "outputs": [
    {
     "data": {
      "text/plain": [
       "['Hes a scientist.',\n",
       " \"'But we speak the truth aur ye sach hai ke Gujarat mein vikas pagal hogaya hai,'' Rahul Gandhi further said in Banaskantha\",\n",
       " '8 lakh crore have been looted.']"
      ]
     },
     "execution_count": 14,
     "metadata": {},
     "output_type": "execute_result"
    }
   ],
   "source": [
    "english_sentences[:3]"
   ]
  },
  {
   "cell_type": "code",
   "execution_count": 15,
   "metadata": {},
   "outputs": [
    {
     "data": {
      "text/plain": [
       "['ಇವರು ಸಂಶೋಧಕ ಸ್ವಭಾವದವರು.',\n",
       " '\"ಆದರೆ ಸತ್ಯ ಹೊರ ಬಂದೇ ಬರುತ್ತದೆ ಎಂದು ಹೇಳಿದ ರಾಹುಲ್ ಗಾಂಧಿ, \"\"ಸೂರತ್ ಜನರು ಚೀನಾದ ಜತೆ ಸ್ಪರ್ಧೆ ನಡೆಸುತ್ತಿದ್ದಾರೆ\"',\n",
       " 'ಕಳ್ಳತನವಾಗಿದ್ದ 8 ಲಕ್ಷ ರೂ.']"
      ]
     },
     "execution_count": 15,
     "metadata": {},
     "output_type": "execute_result"
    }
   ],
   "source": [
    "kannada_sentences[:3]"
   ]
  },
  {
   "cell_type": "code",
   "execution_count": 16,
   "metadata": {},
   "outputs": [],
   "source": [
    "class TextDataset(Dataset):\n",
    "    def __init__(self, english_sentences: list[str], kannada_sentences: list[str]):\n",
    "        self.english_sentences = english_sentences\n",
    "        self.kannada_sentences = kannada_sentences\n",
    "\n",
    "    def __len__(self):\n",
    "        return len(self.english_sentences)\n",
    "\n",
    "    def __getitem__(self, idx):\n",
    "        return self.english_sentences[idx], self.kannada_sentences[idx]"
   ]
  },
  {
   "cell_type": "code",
   "execution_count": 17,
   "metadata": {},
   "outputs": [
    {
     "data": {
      "text/plain": [
       "81947"
      ]
     },
     "execution_count": 17,
     "metadata": {},
     "output_type": "execute_result"
    }
   ],
   "source": [
    "dataset = TextDataset(english_sentences, kannada_sentences)\n",
    "len(dataset)"
   ]
  },
  {
   "cell_type": "code",
   "execution_count": 18,
   "metadata": {},
   "outputs": [
    {
     "data": {
      "text/plain": [
       "('Hes a scientist.', 'ಇವರು ಸಂಶೋಧಕ ಸ್ವಭಾವದವರು.')"
      ]
     },
     "execution_count": 18,
     "metadata": {},
     "output_type": "execute_result"
    }
   ],
   "source": [
    "dataset[0]"
   ]
  },
  {
   "attachments": {},
   "cell_type": "markdown",
   "metadata": {},
   "source": [
    "## Batching Sentences"
   ]
  },
  {
   "attachments": {},
   "cell_type": "markdown",
   "metadata": {},
   "source": [
    "For this example, let's assume our batch size is 3. To explain why we're batching, let's say we take just one input English sentence and one Kannada translation as just the batch size (in this case, batch size would simply be 1 which is essentially no batching). So if we were to pass one English sentence and one Kannada sentence during training, we'll get some output loss and we're going to perform back propagation to update all of these millions of parameters in order to now, get a new state. Then, we will repeat this again with another input English sentence and Kannada sentence. Updating each and every single parameter for just a single input example is computationally expensive and takes a very long time. The loss steps will also be very unstable.\n",
    "\n",
    "Therefore, in order to speed up the training, we parallelize passing information into the network by batching up the examples. In our case, we chose 3 examples that make up our batch each time information is fed into the network. After the loss for all three examples have been computed, only then we perform back propagation and update the parameters. So, we're essentially updating once for every three inputs. We can increase the batch size to decrease the number of times the entire network is going to be updated and this will speed up training and hence, for many machine learning algorithms, we use mini-batch gradient descent."
   ]
  },
  {
   "cell_type": "code",
   "execution_count": 19,
   "metadata": {},
   "outputs": [],
   "source": [
    "BATCH_SIZE = 3\n",
    "train_loader = DataLoader(dataset, batch_size=BATCH_SIZE)\n",
    "iterator = iter(train_loader)"
   ]
  },
  {
   "cell_type": "code",
   "execution_count": 20,
   "metadata": {},
   "outputs": [
    {
     "name": "stdout",
     "output_type": "stream",
     "text": [
      "[('Hes a scientist.', \"'But we speak the truth aur ye sach hai ke Gujarat mein vikas pagal hogaya hai,'' Rahul Gandhi further said in Banaskantha\", '8 lakh crore have been looted.'), ('ಇವರು ಸಂಶೋಧಕ ಸ್ವಭಾವದವರು.', '\"ಆದರೆ ಸತ್ಯ ಹೊರ ಬಂದೇ ಬರುತ್ತದೆ ಎಂದು ಹೇಳಿದ ರಾಹುಲ್ ಗಾಂಧಿ, \"\"ಸೂರತ್ ಜನರು ಚೀನಾದ ಜತೆ ಸ್ಪರ್ಧೆ ನಡೆಸುತ್ತಿದ್ದಾರೆ\"', 'ಕಳ್ಳತನವಾಗಿದ್ದ 8 ಲಕ್ಷ ರೂ.')]\n",
      "[('I read a lot into this as well.', 'How did mankind come under Satans rival sovereignty?', 'And then I became Prime Minister.'), ('ಇದರ ಬಗ್ಗೆ ನಾನೂ ಸಾಕಷ್ಟು ಓದಿದ್ದೇನೆ.', 'ಮಾನವಕುಲವು ಸೈತಾನನ ಆಳಿಕೆಯ ಕೆಳಗೆ ಬಂದದ್ದು ಹೇಗೆ?', 'ನಂತರ ಪ್ರಧಾನಿ ಕೂಡ ಆಗುತ್ತೇನೆ.')]\n",
      "[('What about corruption?', '\"\"\"The shooting of the film is 90 percent done.\"', 'the Special Statute'), ('ಭ್ರಷ್ಟಾಚಾರ ಏಕಿದೆ?', 'ಆ ಚಿತ್ರದ ಶೇ 90ರಷ್ಟು ಚಿತ್ರೀಕರಣವೂ ಈಗಾಗಲೇ ಮುಗಿದು ಹೋಗಿದೆ.', 'ವಿಶೇಷ ಕಾನೂನು')]\n",
      "[('\"Then the king said to Ittai the Gittite, \"\"Why do you also go with us? Return, and stay with the king. for you are a foreigner, and also an exile. Return to your own place.\"', 'What happened at the UN General Assembly?', 'The meeting was attended by Prime Minister Narendra Modi, Home Minister Amit Shah and Defence Minister Rajnath Singh, among others.'), ('ಆಗ ಅರಸನು ಗಿತ್ತೀಯನಾದ ಇತ್ತೈಯನ್ನು ನೋಡಿ--ನೀನು ನಮ್ಮ ಸಂಗಡ ಬರುವದು ಯಾಕೆ? ನಿನ್ನ ಸ್ಥಳಕ್ಕೆ ಹಿಂದಿರುಗಿ ಹೋಗಿ ಅರಸನ ಸಂಗಡ ಇರು. ಯಾಕಂದರೆ ನೀನು ಸೆರೆಹಿಡಿಯಲ್ಪಟ್ಟವನಾದ ಅನ್ಯದೇಶದವನು.', 'ವಿಶ್ವ ಗೋ ಸಮ್ಮೇಳನದ ಅಂಗಳದಲ್ಲಿ ಏನೇನು ನಡೆದಿದೆ?', 'ಪ್ರಧಾನ ಮಂತ್ರಿ ನರೇಂದ್ರ ಮೋದಿ, ರಕ್ಷಣಾ ಸಚಿವ ರಾಜನಾಥ್ ಸಿಂಗ್ ಮತ್ತು ಕೇಂದ್ರ ಗೃಹ ಸಚಿವ ಅಮಿತ್ ಷಾ ಅವರು ಮಸೂದೆಯ ಬಗ್ಗೆ ಸಾರ್ವಜನಿಕ ಚರ್ಚೆ ಗೆ ಬರುವಂತೆ ಸಂಘ ಸವಾಲು ಹಾಕಿದೆ.')]\n",
      "[('It has been under discussion for a long time.', 'Buses cannot get there.', 'Why then this tradition was not thought of?'), ('ಎಂಬುದು ಬಹಳ ದೀರ್ಘ ಕಾಲದಿಂದಲೂ ಚರ್ಚಿತವಾಗುತ್ತಿರುವ ವಿಷಯ.', 'ಇಲ್ಲಿಗೆ ಬರಲು ಬಸ್ ಸೌಕರ್ಯವೂ ಇಲ್ಲ.', 'ಆ ಪರಂಪರೆ ಯಾಕೆ ಮುನ್ನೆಲೆಗೆ ಬರಲಿಲ್ಲ?')]\n"
     ]
    }
   ],
   "source": [
    "for batch_num, batch in enumerate(train_loader):\n",
    "    print(batch)\n",
    "    if batch_num > 3:  # print only first 4 batches\n",
    "        break"
   ]
  },
  {
   "attachments": {},
   "cell_type": "markdown",
   "metadata": {},
   "source": [
    "## Character to Number Encoding"
   ]
  },
  {
   "attachments": {},
   "cell_type": "markdown",
   "metadata": {},
   "source": [
    "Next, is tokenization. We have sentences and so, we need to convert these into numbers because computers don't understand text and they only understand numbers. The `tokenize` function below takes in a sentence, a language to index which contains the characters to numbers embedding and an optional start and end token. If we choose to have a start and end token, we will prepend and append the tokens respectively to the sentence. In most cases, we will also append padding tokens to sentences until they match the maximum sequence length."
   ]
  },
  {
   "cell_type": "code",
   "execution_count": 21,
   "metadata": {},
   "outputs": [],
   "source": [
    "def tokenize(\n",
    "    sentence: str,\n",
    "    language_to_index: dict[str, int],\n",
    "    start_token: bool = True,\n",
    "    end_token: bool = True,\n",
    ") -> torch.tensor:\n",
    "    sentence_word_indices = [language_to_index[char] for char in list(sentence)]\n",
    "    if start_token:\n",
    "        sentence_word_indices.insert(0, language_to_index[START_TOKEN])\n",
    "    if end_token:\n",
    "        sentence_word_indices.append(language_to_index[END_TOKEN])\n",
    "    # Add padding tokens\n",
    "    for _ in range(len(sentence_word_indices), max_sequence_length):\n",
    "        sentence_word_indices.append(language_to_index[PADDING_TOKEN])\n",
    "    return torch.tensor(sentence_word_indices)"
   ]
  },
  {
   "cell_type": "code",
   "execution_count": 22,
   "metadata": {},
   "outputs": [
    {
     "data": {
      "text/plain": [
       "[('It has been under discussion for a long time.',\n",
       "  'Buses cannot get there.',\n",
       "  'Why then this tradition was not thought of?'),\n",
       " ('ಎಂಬುದು ಬಹಳ ದೀರ್ಘ ಕಾಲದಿಂದಲೂ ಚರ್ಚಿತವಾಗುತ್ತಿರುವ ವಿಷಯ.',\n",
       "  'ಇಲ್ಲಿಗೆ ಬರಲು ಬಸ್ ಸೌಕರ್ಯವೂ ಇಲ್ಲ.',\n",
       "  'ಆ ಪರಂಪರೆ ಯಾಕೆ ಮುನ್ನೆಲೆಗೆ ಬರಲಿಲ್ಲ?')]"
      ]
     },
     "execution_count": 22,
     "metadata": {},
     "output_type": "execute_result"
    }
   ],
   "source": [
    "batch"
   ]
  },
  {
   "attachments": {},
   "cell_type": "markdown",
   "metadata": {},
   "source": [
    "For every sentence in the batch, we will call the `tokenize` function. For the English sentences, we don't have to use start and end tokens because we are passing every word into the network simultaneously anyways — we will have the entire English sentence.\n",
    "\n",
    "As for the Kannada sentences, we require the start and end tokens because during the generation phase, the network is not going to have any kind of word to start with. Therefore, we have to inject something into the model and that will be the start token. Similarly, we pass in the end token to tell the network where the sentence ends. After that, it's just padding tokens."
   ]
  },
  {
   "cell_type": "code",
   "execution_count": 23,
   "metadata": {},
   "outputs": [
    {
     "name": "stdout",
     "output_type": "stream",
     "text": [
      "torch.Size([3, 200])\n",
      "torch.Size([3, 200])\n"
     ]
    }
   ],
   "source": [
    "english_tokenized, kannada_tokenized = [], []\n",
    "for sentence_num in range(BATCH_SIZE):\n",
    "    english_sentence, kannada_sentence = batch[0][sentence_num], batch[1][sentence_num]\n",
    "    english_tokenized.append(\n",
    "        tokenize(english_sentence, english_to_index, start_token=False, end_token=False)\n",
    "    )\n",
    "    kannada_tokenized.append(\n",
    "        tokenize(kannada_sentence, kannada_to_index, start_token=True, end_token=True)\n",
    "    )\n",
    "\n",
    "english_tokenized = torch.stack(english_tokenized, dim=0)\n",
    "kannada_tokenized = torch.stack(kannada_tokenized, dim=0)\n",
    "\n",
    "print(english_tokenized.shape)\n",
    "print(kannada_tokenized.shape)"
   ]
  },
  {
   "cell_type": "code",
   "execution_count": 24,
   "metadata": {},
   "outputs": [
    {
     "data": {
      "text/plain": [
       "tensor([[41., 84.,  1., 72., 65., 83.,  1., 66., 69., 69., 78.,  1., 85., 78.,\n",
       "         68., 69., 82.,  1., 68., 73., 83., 67., 85., 83., 83., 73., 79., 78.,\n",
       "          1., 70., 79., 82.,  1., 65.,  1., 76., 79., 78., 71.,  1., 84., 73.,\n",
       "         77., 69., 15., 96., 96., 96., 96., 96., 96., 96., 96., 96., 96., 96.,\n",
       "         96., 96., 96., 96., 96., 96., 96., 96., 96., 96., 96., 96., 96., 96.,\n",
       "         96., 96., 96., 96., 96., 96., 96., 96., 96., 96., 96., 96., 96., 96.,\n",
       "         96., 96., 96., 96., 96., 96., 96., 96., 96., 96., 96., 96., 96., 96.,\n",
       "         96., 96., 96., 96., 96., 96., 96., 96., 96., 96., 96., 96., 96., 96.,\n",
       "         96., 96., 96., 96., 96., 96., 96., 96., 96., 96., 96., 96., 96., 96.,\n",
       "         96., 96., 96., 96., 96., 96., 96., 96., 96., 96., 96., 96., 96., 96.,\n",
       "         96., 96., 96., 96., 96., 96., 96., 96., 96., 96., 96., 96., 96., 96.,\n",
       "         96., 96., 96., 96., 96., 96., 96., 96., 96., 96., 96., 96., 96., 96.,\n",
       "         96., 96., 96., 96., 96., 96., 96., 96., 96., 96., 96., 96., 96., 96.,\n",
       "         96., 96., 96., 96., 96., 96., 96., 96., 96., 96., 96., 96., 96., 96.,\n",
       "         96., 96., 96., 96.],\n",
       "        [34., 85., 83., 69., 83.,  1., 67., 65., 78., 78., 79., 84.,  1., 71.,\n",
       "         69., 84.,  1., 84., 72., 69., 82., 69., 15., 96., 96., 96., 96., 96.,\n",
       "         96., 96., 96., 96., 96., 96., 96., 96., 96., 96., 96., 96., 96., 96.,\n",
       "         96., 96., 96., 96., 96., 96., 96., 96., 96., 96., 96., 96., 96., 96.,\n",
       "         96., 96., 96., 96., 96., 96., 96., 96., 96., 96., 96., 96., 96., 96.,\n",
       "         96., 96., 96., 96., 96., 96., 96., 96., 96., 96., 96., 96., 96., 96.,\n",
       "         96., 96., 96., 96., 96., 96., 96., 96., 96., 96., 96., 96., 96., 96.,\n",
       "         96., 96., 96., 96., 96., 96., 96., 96., 96., 96., 96., 96., 96., 96.,\n",
       "         96., 96., 96., 96., 96., 96., 96., 96., 96., 96., 96., 96., 96., 96.,\n",
       "         96., 96., 96., 96., 96., 96., 96., 96., 96., 96., 96., 96., 96., 96.,\n",
       "         96., 96., 96., 96., 96., 96., 96., 96., 96., 96., 96., 96., 96., 96.,\n",
       "         96., 96., 96., 96., 96., 96., 96., 96., 96., 96., 96., 96., 96., 96.,\n",
       "         96., 96., 96., 96., 96., 96., 96., 96., 96., 96., 96., 96., 96., 96.,\n",
       "         96., 96., 96., 96., 96., 96., 96., 96., 96., 96., 96., 96., 96., 96.,\n",
       "         96., 96., 96., 96.],\n",
       "        [55., 72., 89.,  1., 84., 72., 69., 78.,  1., 84., 72., 73., 83.,  1.,\n",
       "         84., 82., 65., 68., 73., 84., 73., 79., 78.,  1., 87., 65., 83.,  1.,\n",
       "         78., 79., 84.,  1., 84., 72., 79., 85., 71., 72., 84.,  1., 79., 70.,\n",
       "         31., 96., 96., 96., 96., 96., 96., 96., 96., 96., 96., 96., 96., 96.,\n",
       "         96., 96., 96., 96., 96., 96., 96., 96., 96., 96., 96., 96., 96., 96.,\n",
       "         96., 96., 96., 96., 96., 96., 96., 96., 96., 96., 96., 96., 96., 96.,\n",
       "         96., 96., 96., 96., 96., 96., 96., 96., 96., 96., 96., 96., 96., 96.,\n",
       "         96., 96., 96., 96., 96., 96., 96., 96., 96., 96., 96., 96., 96., 96.,\n",
       "         96., 96., 96., 96., 96., 96., 96., 96., 96., 96., 96., 96., 96., 96.,\n",
       "         96., 96., 96., 96., 96., 96., 96., 96., 96., 96., 96., 96., 96., 96.,\n",
       "         96., 96., 96., 96., 96., 96., 96., 96., 96., 96., 96., 96., 96., 96.,\n",
       "         96., 96., 96., 96., 96., 96., 96., 96., 96., 96., 96., 96., 96., 96.,\n",
       "         96., 96., 96., 96., 96., 96., 96., 96., 96., 96., 96., 96., 96., 96.,\n",
       "         96., 96., 96., 96., 96., 96., 96., 96., 96., 96., 96., 96., 96., 96.,\n",
       "         96., 96., 96., 96.]])"
      ]
     },
     "execution_count": 24,
     "metadata": {},
     "output_type": "execute_result"
    }
   ],
   "source": [
    "english_tokenized"
   ]
  },
  {
   "attachments": {},
   "cell_type": "markdown",
   "metadata": {},
   "source": [
    "## Masking"
   ]
  },
  {
   "attachments": {},
   "cell_type": "markdown",
   "metadata": {},
   "source": [
    "You'll see that we don't really need a typical type of masking for the encoder part. The only kind of masking the encoder requires is a padding mask. This padding mask simply tells the encoder not look at the padding tokens when the network is computing the loss function and updating the gradient weights. The padding tokens mean nothing. Therefore, we need a padding mask interjected in the encoder within the multi-head attention mechanism.\n",
    "\n",
    "With the decoder, it requires a mass multi-headed attention mask. During inference, the decoder cannot look forward to what tokens should be generated. That's a form of data leakage if it were able to look ahead and we cannot have that. Therefore, what we do is we mask all the tokens that comes after a character. We are telling the network that we have no context of future words and the only context we can derive from are characters that came before. On top of this, we also have a padding mask (like in the encoder) that masks the padding tokens."
   ]
  },
  {
   "cell_type": "code",
   "execution_count": 25,
   "metadata": {},
   "outputs": [],
   "source": [
    "NEG_INFTY = 1e-9\n",
    "\n",
    "\n",
    "def create_masks(english_batch, kannada_batch):\n",
    "    assert len(english_batch) == len(kannada_batch)\n",
    "    num_sentences = len(english_batch)\n",
    "    look_ahead_mask = torch.full([max_sequence_length, max_sequence_length], True)\n",
    "    look_ahead_mask = torch.triu(look_ahead_mask, diagonal=1)\n",
    "    encoder_padding_mask = torch.full(\n",
    "        [num_sentences, max_sequence_length, max_sequence_length], False\n",
    "    )\n",
    "    decoder_padding_mask_self_attention = torch.full(\n",
    "        [num_sentences, max_sequence_length, max_sequence_length], False\n",
    "    )\n",
    "    decoder_padding_mask_cross_attention = torch.full(\n",
    "        [num_sentences, max_sequence_length, max_sequence_length], False\n",
    "    )\n",
    "\n",
    "    for idx in range(num_sentences):\n",
    "        english_sentence_len, kannada_sentence_len = len(english_batch[idx]), len(\n",
    "            kannada_batch[idx]\n",
    "        )\n",
    "        english_chars_to_padding_mask = np.arange(\n",
    "            english_sentence_len + 1, max_sequence_length\n",
    "        )\n",
    "        kannada_chars_to_padding_mask = np.arange(\n",
    "            kannada_sentence_len + 1, max_sequence_length\n",
    "        )\n",
    "        # encoder padding mask\n",
    "        encoder_padding_mask[idx, :, english_chars_to_padding_mask] = True\n",
    "        encoder_padding_mask[idx, english_chars_to_padding_mask, :] = True\n",
    "        # decoder padding mask for self-attention\n",
    "        decoder_padding_mask_self_attention[\n",
    "            idx, :, kannada_chars_to_padding_mask\n",
    "        ] = True\n",
    "        decoder_padding_mask_self_attention[\n",
    "            idx, kannada_chars_to_padding_mask, :\n",
    "        ] = True\n",
    "        # decoder padding mask for cross attention\n",
    "        decoder_padding_mask_cross_attention[\n",
    "            idx, :, kannada_chars_to_padding_mask\n",
    "        ] = True\n",
    "        decoder_padding_mask_cross_attention[\n",
    "            idx, kannada_chars_to_padding_mask, :\n",
    "        ] = True\n",
    "\n",
    "    encoder_self_attention_mask = torch.where(encoder_padding_mask, NEG_INFTY, 0)\n",
    "    # look ahead mask prevents it from looking ahead at future words\n",
    "    decoder_self_attention_mask = torch.where(\n",
    "        look_ahead_mask + decoder_padding_mask_self_attention, NEG_INFTY, 0\n",
    "    )\n",
    "    decoder_cross_attention_mask = torch.where(\n",
    "        decoder_padding_mask_cross_attention, NEG_INFTY, 0\n",
    "    )\n",
    "\n",
    "    print(\n",
    "        f\"encoder_self_attention_mask {encoder_self_attention_mask.size()}: {encoder_self_attention_mask[0, :10, :10]}\"\n",
    "    )\n",
    "    print(\n",
    "        f\"decoder_self_attention_mask {decoder_self_attention_mask.size()}: {decoder_self_attention_mask[0, :10, :10]}\"\n",
    "    )\n",
    "    print(\n",
    "        f\"decoder_cross_attention_mask {decoder_cross_attention_mask.size()}: {decoder_cross_attention_mask[0, :10, :10]}\"\n",
    "    )\n",
    "\n",
    "    return (\n",
    "        encoder_self_attention_mask,\n",
    "        decoder_self_attention_mask,\n",
    "        decoder_cross_attention_mask,\n",
    "    )"
   ]
  },
  {
   "attachments": {},
   "cell_type": "markdown",
   "metadata": {},
   "source": [
    "In the `create_masks` function above, zeros are for values that are not masked and negative large numbers are to indicate masking. This is because we will be using the $\\text{softmax}$ function which outputs a 1 for zeros and 0 for negative infinity. In this case, it will result in a very small value  which is close to zero because we are using a large negative number instead.\n",
    "\n",
    "The reason why we are not using negative infinity is because we may end up with cases where entire rows are just zeros. This will lead to numerical instability which makes the network untrainable."
   ]
  },
  {
   "cell_type": "code",
   "execution_count": 26,
   "metadata": {},
   "outputs": [
    {
     "name": "stdout",
     "output_type": "stream",
     "text": [
      "encoder_self_attention_mask torch.Size([3, 200, 200]): tensor([[0., 0., 0., 0., 0., 0., 0., 0., 0., 0.],\n",
      "        [0., 0., 0., 0., 0., 0., 0., 0., 0., 0.],\n",
      "        [0., 0., 0., 0., 0., 0., 0., 0., 0., 0.],\n",
      "        [0., 0., 0., 0., 0., 0., 0., 0., 0., 0.],\n",
      "        [0., 0., 0., 0., 0., 0., 0., 0., 0., 0.],\n",
      "        [0., 0., 0., 0., 0., 0., 0., 0., 0., 0.],\n",
      "        [0., 0., 0., 0., 0., 0., 0., 0., 0., 0.],\n",
      "        [0., 0., 0., 0., 0., 0., 0., 0., 0., 0.],\n",
      "        [0., 0., 0., 0., 0., 0., 0., 0., 0., 0.],\n",
      "        [0., 0., 0., 0., 0., 0., 0., 0., 0., 0.]])\n",
      "decoder_self_attention_mask torch.Size([3, 200, 200]): tensor([[0.0000e+00, 1.0000e-09, 1.0000e-09, 1.0000e-09, 1.0000e-09, 1.0000e-09,\n",
      "         1.0000e-09, 1.0000e-09, 1.0000e-09, 1.0000e-09],\n",
      "        [0.0000e+00, 0.0000e+00, 1.0000e-09, 1.0000e-09, 1.0000e-09, 1.0000e-09,\n",
      "         1.0000e-09, 1.0000e-09, 1.0000e-09, 1.0000e-09],\n",
      "        [0.0000e+00, 0.0000e+00, 0.0000e+00, 1.0000e-09, 1.0000e-09, 1.0000e-09,\n",
      "         1.0000e-09, 1.0000e-09, 1.0000e-09, 1.0000e-09],\n",
      "        [0.0000e+00, 0.0000e+00, 0.0000e+00, 0.0000e+00, 1.0000e-09, 1.0000e-09,\n",
      "         1.0000e-09, 1.0000e-09, 1.0000e-09, 1.0000e-09],\n",
      "        [0.0000e+00, 0.0000e+00, 0.0000e+00, 0.0000e+00, 0.0000e+00, 1.0000e-09,\n",
      "         1.0000e-09, 1.0000e-09, 1.0000e-09, 1.0000e-09],\n",
      "        [0.0000e+00, 0.0000e+00, 0.0000e+00, 0.0000e+00, 0.0000e+00, 0.0000e+00,\n",
      "         1.0000e-09, 1.0000e-09, 1.0000e-09, 1.0000e-09],\n",
      "        [0.0000e+00, 0.0000e+00, 0.0000e+00, 0.0000e+00, 0.0000e+00, 0.0000e+00,\n",
      "         0.0000e+00, 1.0000e-09, 1.0000e-09, 1.0000e-09],\n",
      "        [0.0000e+00, 0.0000e+00, 0.0000e+00, 0.0000e+00, 0.0000e+00, 0.0000e+00,\n",
      "         0.0000e+00, 0.0000e+00, 1.0000e-09, 1.0000e-09],\n",
      "        [0.0000e+00, 0.0000e+00, 0.0000e+00, 0.0000e+00, 0.0000e+00, 0.0000e+00,\n",
      "         0.0000e+00, 0.0000e+00, 0.0000e+00, 1.0000e-09],\n",
      "        [0.0000e+00, 0.0000e+00, 0.0000e+00, 0.0000e+00, 0.0000e+00, 0.0000e+00,\n",
      "         0.0000e+00, 0.0000e+00, 0.0000e+00, 0.0000e+00]])\n",
      "decoder_cross_attention_mask torch.Size([3, 200, 200]): tensor([[0., 0., 0., 0., 0., 0., 0., 0., 0., 0.],\n",
      "        [0., 0., 0., 0., 0., 0., 0., 0., 0., 0.],\n",
      "        [0., 0., 0., 0., 0., 0., 0., 0., 0., 0.],\n",
      "        [0., 0., 0., 0., 0., 0., 0., 0., 0., 0.],\n",
      "        [0., 0., 0., 0., 0., 0., 0., 0., 0., 0.],\n",
      "        [0., 0., 0., 0., 0., 0., 0., 0., 0., 0.],\n",
      "        [0., 0., 0., 0., 0., 0., 0., 0., 0., 0.],\n",
      "        [0., 0., 0., 0., 0., 0., 0., 0., 0., 0.],\n",
      "        [0., 0., 0., 0., 0., 0., 0., 0., 0., 0.],\n",
      "        [0., 0., 0., 0., 0., 0., 0., 0., 0., 0.]])\n"
     ]
    }
   ],
   "source": [
    "(\n",
    "    encoder_self_attention_mask,\n",
    "    decoder_self_attention_mask,\n",
    "    decoder_cross_attention_mask,\n",
    ") = create_masks(batch[0], batch[1])"
   ]
  },
  {
   "cell_type": "code",
   "execution_count": 27,
   "metadata": {},
   "outputs": [],
   "source": [
    "def get_device() -> str:\n",
    "    return \"cuda\" if torch.cuda.is_available() else \"cpu\""
   ]
  },
  {
   "cell_type": "code",
   "execution_count": 28,
   "metadata": {},
   "outputs": [],
   "source": [
    "class SentenceEmbedding(nn.Module):\n",
    "    \"\"\"For a given sentence, create an embedding.\"\"\"\n",
    "\n",
    "    def __init__(\n",
    "        self,\n",
    "        max_sequence_length: int,\n",
    "        d_model: int,\n",
    "        language_to_idx: dict[str, int],\n",
    "        START_TOKEN: bool,\n",
    "        END_TOKEN: bool,\n",
    "        PADDING_TOKEN: bool,\n",
    "    ):\n",
    "        super().__init__()\n",
    "        self.vocab_size = len(language_to_idx)\n",
    "        self.max_sequence_length = max_sequence_length\n",
    "        self.embedding = nn.Embedding(self.vocab_size, d_model)\n",
    "        self.language_to_idx = language_to_idx\n",
    "        self.position_encoder = PositionalEncoding(d_model, max_sequence_length)\n",
    "        self.dropout = nn.Dropout(p=0.1)\n",
    "        self.START_TOKEN = START_TOKEN\n",
    "        self.END_TOKEN = END_TOKEN\n",
    "        self.PADDING_TOKEN = PADDING_TOKEN\n",
    "\n",
    "    def batch_tokenize(\n",
    "        self, batch: torch.tensor, start_token: bool = True, end_token: bool = True\n",
    "    ) -> torch.tensor:\n",
    "        def tokenize(sentence: str, start_token: bool = True, end_token: bool = True):\n",
    "            sentence_word_indices = [\n",
    "                self.language_to_idx[char] for char in list(sentence)\n",
    "            ]\n",
    "            if start_token:\n",
    "                sentence_word_indices.insert(0, self.language_to_idx[self.START_TOKEN])\n",
    "            if end_token:\n",
    "                sentence_word_indices.append(self.language_to_idx[self.END_TOKEN])\n",
    "            # Add padding tokens\n",
    "            for _ in range(len(sentence_word_indices), self.max_sequence_length):\n",
    "                sentence_word_indices.append(self.language_to_idx[self.PADDING_TOKEN])\n",
    "            return torch.tensor(sentence_word_indices)\n",
    "\n",
    "        tokenized = []\n",
    "        for sentence_num in range(len(batch)):\n",
    "            tokenized.append(tokenize(batch[sentence_num], start_token, end_token))\n",
    "        tokenized = torch.stack(tokenized, dim=0)\n",
    "        return tokenized.to(get_device())\n",
    "\n",
    "    def forward(self, x, start_token: bool = True, end_token: bool = True):\n",
    "        x = self.batch_tokenize(x, start_token, end_token)\n",
    "        x = self.embedding(x)\n",
    "        pos = self.position_encoder().to(get_device())\n",
    "        x += pos\n",
    "        x = self.dropout(x)\n",
    "        return x"
   ]
  },
  {
   "cell_type": "code",
   "execution_count": null,
   "metadata": {},
   "outputs": [],
   "source": []
  }
 ],
 "metadata": {
  "kernelspec": {
   "display_name": "base",
   "language": "python",
   "name": "python3"
  },
  "language_info": {
   "codemirror_mode": {
    "name": "ipython",
    "version": 3
   },
   "file_extension": ".py",
   "mimetype": "text/x-python",
   "name": "python",
   "nbconvert_exporter": "python",
   "pygments_lexer": "ipython3",
   "version": "3.9.13"
  },
  "orig_nbformat": 4
 },
 "nbformat": 4,
 "nbformat_minor": 2
}
